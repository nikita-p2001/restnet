{
 "cells": [
  {
   "cell_type": "code",
   "execution_count": null,
   "id": "e58e2732",
   "metadata": {},
   "outputs": [],
   "source": [
    "#9. Use pre-trained CNN-RESNET50 to explain standalone feature extractor. Copy paste the code with output shape in the document."
   ]
  },
  {
   "cell_type": "code",
   "execution_count": 1,
   "id": "c6f99b66",
   "metadata": {},
   "outputs": [],
   "source": [
    "train=r\"C:\\Users\\nikit\\OneDrive\\Desktop\\PDF\\IS\\Class Dataset IS3\\training\"\n",
    "test=r\"C:\\Users\\nikit\\OneDrive\\Desktop\\PDF\\IS\\Class Dataset IS3\\testing\""
   ]
  },
  {
   "cell_type": "code",
   "execution_count": 2,
   "id": "89699c87",
   "metadata": {},
   "outputs": [],
   "source": [
    "from keras.preprocessing.image import ImageDataGenerator"
   ]
  },
  {
   "cell_type": "code",
   "execution_count": 3,
   "id": "8fe28d78",
   "metadata": {},
   "outputs": [],
   "source": [
    "train_datagen = ImageDataGenerator(\n",
    "        shear_range=0.1,\n",
    "        zoom_range=0.1,\n",
    "        horizontal_flip=True)"
   ]
  },
  {
   "cell_type": "code",
   "execution_count": 4,
   "id": "849606af",
   "metadata": {},
   "outputs": [],
   "source": [
    "test_datagen = ImageDataGenerator(shear_range=0.1,\n",
    "        zoom_range=0.1,\n",
    "        horizontal_flip=True)"
   ]
  },
  {
   "cell_type": "code",
   "execution_count": 5,
   "id": "448c52e5",
   "metadata": {},
   "outputs": [
    {
     "name": "stdout",
     "output_type": "stream",
     "text": [
      "Found 315 images belonging to 15 classes.\n",
      "Found 135 images belonging to 15 classes.\n"
     ]
    }
   ],
   "source": [
    "training_set = train_datagen.flow_from_directory(\n",
    "        train,\n",
    "        target_size=(224,224),\n",
    "        batch_size=5,\n",
    "        class_mode='categorical')\n",
    "test_set = test_datagen.flow_from_directory(\n",
    "        test,\n",
    "        target_size=(225,224),\n",
    "        batch_size=5,\n",
    "        class_mode='categorical')"
   ]
  },
  {
   "cell_type": "code",
   "execution_count": 6,
   "id": "9ff55b74",
   "metadata": {},
   "outputs": [
    {
     "data": {
      "text/plain": [
       "{'Achal': 0,\n",
       " 'Anushka': 1,\n",
       " 'Fawzaan': 2,\n",
       " 'Lokesh': 3,\n",
       " 'Pranav': 4,\n",
       " 'Pushkar': 5,\n",
       " 'Samarth': 6,\n",
       " 'Sohail': 7,\n",
       " 'Sumit': 8,\n",
       " 'Sunny': 9,\n",
       " 'Susmit': 10,\n",
       " 'Umang': 11,\n",
       " 'Vaibhav': 12,\n",
       " 'Vivek_Patil': 13,\n",
       " 'Vivek_Pusti': 14}"
      ]
     },
     "execution_count": 6,
     "metadata": {},
     "output_type": "execute_result"
    }
   ],
   "source": [
    "test_set.class_indices"
   ]
  },
  {
   "cell_type": "code",
   "execution_count": 7,
   "id": "bf207823",
   "metadata": {},
   "outputs": [],
   "source": [
    "from tensorflow.keras.applications import ResNet50\n",
    "\n",
    "base_model = ResNet50(input_shape=(224, 224,3), include_top=False, weights=\"imagenet\")"
   ]
  },
  {
   "cell_type": "code",
   "execution_count": 8,
   "id": "9a81acf2",
   "metadata": {},
   "outputs": [],
   "source": [
    "for layer in base_model.layers:\n",
    "    layer.trainable = False"
   ]
  },
  {
   "cell_type": "code",
   "execution_count": 9,
   "id": "05dfa247",
   "metadata": {},
   "outputs": [],
   "source": [
    "from tensorflow.keras.applications import ResNet50\n",
    "from tensorflow.python.keras.models import Sequential\n",
    "from tensorflow.python.keras.layers import Dense, Flatten, GlobalAveragePooling2D\n"
   ]
  },
  {
   "cell_type": "code",
   "execution_count": 10,
   "id": "83042f31",
   "metadata": {},
   "outputs": [],
   "source": [
    "base_model = Sequential()\n",
    "base_model.add(ResNet50(include_top=False, weights='imagenet', pooling='max'))\n",
    "base_model.add(Dense(1, activation='sigmoid'))"
   ]
  },
  {
   "cell_type": "code",
   "execution_count": 11,
   "id": "d6ca7621",
   "metadata": {},
   "outputs": [
    {
     "data": {
      "text/plain": [
       "<bound method Model.summary of <tensorflow.python.keras.engine.sequential.Sequential object at 0x00000184BF179790>>"
      ]
     },
     "execution_count": 11,
     "metadata": {},
     "output_type": "execute_result"
    }
   ],
   "source": [
    "base_model.summary"
   ]
  },
  {
   "cell_type": "code",
   "execution_count": 12,
   "id": "4c9d2482",
   "metadata": {},
   "outputs": [],
   "source": [
    "import tensorflow as tf"
   ]
  },
  {
   "cell_type": "code",
   "execution_count": 13,
   "id": "35344043",
   "metadata": {},
   "outputs": [],
   "source": [
    "base_model.compile(optimizer ='SGD', loss = 'binary_crossentropy', metrics = ['acc'])"
   ]
  },
  {
   "cell_type": "code",
   "execution_count": null,
   "id": "04474709",
   "metadata": {},
   "outputs": [
    {
     "name": "stdout",
     "output_type": "stream",
     "text": [
      "Epoch 1/10\n",
      "10/10 [==============================] - ETA: 0s - loss: 4.8742 - acc: 0.8467"
     ]
    }
   ],
   "source": [
    "base_model.fit(training_set, validation_data = test_set, steps_per_epoch = 10, epochs = 10)"
   ]
  },
  {
   "cell_type": "code",
   "execution_count": null,
   "id": "8672c395",
   "metadata": {},
   "outputs": [],
   "source": [
    "test_images=[\"C:\\Users\\nikit\\OneDrive\\Desktop\\PDF\\IS\\Class Dataset IS3\\testing\\Sunny\\21.jpg\", \"C:\\Users\\nikit\\OneDrive\\Desktop\\PDF\\IS\\Class Dataset IS3\\testing\\Fawzaan\\21.jpg\"]"
   ]
  },
  {
   "cell_type": "code",
   "execution_count": null,
   "id": "02abc447",
   "metadata": {},
   "outputs": [],
   "source": [
    "test_label=['sunny','fawzan']"
   ]
  },
  {
   "cell_type": "code",
   "execution_count": null,
   "id": "2ff42de2",
   "metadata": {},
   "outputs": [],
   "source": [
    "test_label = lb.fit_transform(test_label)\n",
    "test_label = tf.keras.utils.to_categorical(test_label)"
   ]
  },
  {
   "cell_type": "code",
   "execution_count": null,
   "id": "b861fb45",
   "metadata": {},
   "outputs": [],
   "source": [
    "for (i,l) in enumerate(test_label):\n",
    "    response = requests.get(test_images[i])\n",
    "    img = Image.open(BytesIO(response.content))\n",
    "    img = np.asarray(img)/255.\n",
    "    img = tf.image.resize(img, [224, 224])\n",
    "    img = tf.reshape(img, (1,224, 224,3))\n",
    "    \n",
    "    prediction = base_model.predict(img)\n",
    "    output = np.argmax(prediction)\n",
    "    \n",
    "    plt.title(\"Real: {} \\n Predict: {}\".format(test_label[i], test_label[output]))\n",
    "    acc = accuracy_score(test_label[i], test_label[output])\n",
    "    print(\"Accuracy: \", acc)\n",
    "    plt.imshow(img[0, ...])\n",
    "    plt.show()"
   ]
  }
 ],
 "metadata": {
  "kernelspec": {
   "display_name": "Python 3 (ipykernel)",
   "language": "python",
   "name": "python3"
  },
  "language_info": {
   "codemirror_mode": {
    "name": "ipython",
    "version": 3
   },
   "file_extension": ".py",
   "mimetype": "text/x-python",
   "name": "python",
   "nbconvert_exporter": "python",
   "pygments_lexer": "ipython3",
   "version": "3.9.7"
  }
 },
 "nbformat": 4,
 "nbformat_minor": 5
}
